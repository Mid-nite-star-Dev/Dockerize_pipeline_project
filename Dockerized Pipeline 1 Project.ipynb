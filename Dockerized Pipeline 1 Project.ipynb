{
 "cells": [
  {
   "cell_type": "code",
   "execution_count": 5,
   "id": "c50c91e5",
   "metadata": {},
   "outputs": [
    {
     "name": "stdout",
     "output_type": "stream",
     "text": [
      "My Name is Collins, and here are my answers: \n",
      "\n",
      "1. Country with the highest population: China.\n",
      "2. Average GDP across all countries: 3371835.904761905.\n",
      "3. Country with the lowest Unemployment rate: Japan.\n",
      "4. The total population of the top 5 countries by GDP is\" 3284490000.\n",
      "5. Number of countries with a GDP higher than 5 million: 3.\n",
      "6. The country with the lowest GDP per capita: Nigeria.\n"
     ]
    }
   ],
   "source": [
    "import pandas as pd\n",
    "\n",
    "data = [\n",
    "{\"Country\": \"USA\", \"Population\": 328200000, \"GDP\": 21439400, \"Unemployment\": 3.8},\n",
    "{\"Country\": \"China\", \"Population\": 1393000000, \"GDP\": 14342920, \"Unemployment\": 3.6},\n",
    "{\"Country\": \"Japan\", \"Population\": 126500000, \"GDP\": 5082465, \"Unemployment\": 2.4},\n",
    "{\"Country\": \"Germany\", \"Population\": 82790000, \"GDP\": 3845481, \"Unemployment\": 3.4},\n",
    "{\"Country\": \"India\", \"Population\": 1354000000, \"GDP\": 2956756, \"Unemployment\": 6.1},\n",
    "{\"Country\": \"France\", \"Population\": 66990000, \"GDP\": 2930535, \"Unemployment\": 8.0},\n",
    "{\"Country\": \"United Kingdom\", \"Population\": 66440000, \"GDP\": 2825208, \"Unemployment\": 4.1},\n",
    "{\"Country\": \"Italy\", \"Population\": 60480000, \"GDP\": 2086911, \"Unemployment\": 9.9},\n",
    "{\"Country\": \"Brazil\", \"Population\": 209300000, \"GDP\": 1868626, \"Unemployment\": 11.6},\n",
    "{\"Country\": \"Canada\", \"Population\": 37590000, \"GDP\": 1673625, \"Unemployment\": 5.6},\n",
    "{\"Country\": \"South Korea\", \"Population\": 51310000, \"GDP\": 1660119, \"Unemployment\": 3.9},\n",
    "{\"Country\": \"Australia\", \"Population\": 25200000, \"GDP\": 1403313, \"Unemployment\": 5.2},\n",
    "{\"Country\": \"Russia\", \"Population\": 144500000, \"GDP\": 1402081, \"Unemployment\": 4.8},\n",
    "{\"Country\": \"Spain\", \"Population\": 46560000, \"GDP\": 1394215, \"Unemployment\": 14.1},\n",
    "{\"Country\": \"Mexico\", \"Population\": 126200000, \"GDP\": 1212294, \"Unemployment\": 3.3},\n",
    "{\"Country\": \"Indonesia\", \"Population\": 267700000, \"GDP\": 1075216, \"Unemployment\": 5.3},\n",
    "{\"Country\": \"Netherlands\", \"Population\": 17430000, \"GDP\": 909887, \"Unemployment\": 3.6},\n",
    "{\"Country\": \"Saudi Arabia\", \"Population\": 33699947, \"GDP\": 793697, \"Unemployment\": 12.9},\n",
    "{\"Country\": \"Turkey\", \"Population\": 82003882, \"GDP\": 754605, \"Unemployment\": 11.1},\n",
    "{\"Country\": \"Switzerland\", \"Population\": 8541000, \"GDP\": 703080, \"Unemployment\": 2.6},\n",
    "{\"Country\": \"Nigeria\", \"Population\": 214000000, \"GDP\": 448120, \"Unemployment\": 23.1},\n",
    "]\n",
    "\n",
    "#Convert the dataset to a pandas DataFrame using pd.DataFrame(<the variable name>)\n",
    "df = pd.DataFrame(data)\n",
    "\n",
    "\n",
    "#Question 1. Which country has the highest population?\n",
    "highest_population_country = df[df['Population'] == df['Population'].max()]['Country'].values[0]\n",
    "\n",
    "\n",
    "#Question 2. What is the average GDP across all countries?\n",
    "Average = df['GDP'].mean()\n",
    "\n",
    "\n",
    "#Question 3. Which country has the lowest unemployment rate?\n",
    "lowest_Unemployment = df[df['Unemployment']==df['Unemployment'].min()]['Country'].values[0]\n",
    "df = df.sort_values(by=\"GDP\", ascending=False)\n",
    "\n",
    "\n",
    "#Question 4. What is the total population of the top 5 countries by GDP?\n",
    "top_5_countries = df.head(5)\n",
    "total_population = top_5_countries[\"Population\"].sum()\n",
    "\n",
    "\n",
    "#Question 5. How many countries have a GDP higher than 5 million?\n",
    "million = df[df['GDP']>5000000]\n",
    "numbers_of_countries = million.shape[0]\n",
    "\n",
    "\n",
    "#Question 6. Which country has the lowest GDP per capita?\n",
    "df['GDP_per_capita'] = df['GDP'] / df['Population']\n",
    "lowest_gdp_per_capita = df['GDP_per_capita'].min()\n",
    "lowest_gdp_per_capita_country = df[df['GDP_per_capita'] == lowest_gdp_per_capita]['Country'].values[0]\n",
    "\n",
    "\n",
    "print('My Name is Collins, and here are my answers: \\n')\n",
    "\n",
    "print(f'1. Country with the highest population: {highest_population_country}.')\n",
    "\n",
    "print(f'2. Average GDP across all countries: {Average}.')\n",
    "\n",
    "print(f'3. Country with the lowest Unemployment rate: {lowest_Unemployment}.')\n",
    "\n",
    "print(f'4. The total population of the top 5 countries by GDP is\" {total_population}.')\n",
    "\n",
    "print(f'5. Number of countries with a GDP higher than 5 million: {numbers_of_countries}.')\n",
    "\n",
    "print(f'6. The country with the lowest GDP per capita: {lowest_gdp_per_capita_country}.')"
   ]
  },
  {
   "cell_type": "code",
   "execution_count": null,
   "id": "00818767",
   "metadata": {},
   "outputs": [],
   "source": []
  }
 ],
 "metadata": {
  "kernelspec": {
   "display_name": "Python 3 (ipykernel)",
   "language": "python",
   "name": "python3"
  },
  "language_info": {
   "codemirror_mode": {
    "name": "ipython",
    "version": 3
   },
   "file_extension": ".py",
   "mimetype": "text/x-python",
   "name": "python",
   "nbconvert_exporter": "python",
   "pygments_lexer": "ipython3",
   "version": "3.10.9"
  }
 },
 "nbformat": 4,
 "nbformat_minor": 5
}
